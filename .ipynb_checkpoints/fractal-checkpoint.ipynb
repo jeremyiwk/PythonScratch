{
 "cells": [
  {
   "cell_type": "code",
   "execution_count": 383,
   "id": "3acc2fb7-32e5-4ebf-a321-4ae6691af0b8",
   "metadata": {},
   "outputs": [],
   "source": [
    "import numpy as np\n",
    "import matplotlib.pyplot as plt\n",
    "from matplotlib import cm\n",
    "from tqdm import tqdm\n",
    "from itertools import product\n",
    "from matplotlib.colors import LinearSegmentedColormap\n",
    "from imageio import imwrite\n",
    "from numba import jit"
   ]
  },
  {
   "cell_type": "code",
   "execution_count": 384,
   "id": "f3420228-96ed-49f4-af8e-58ebde243afc",
   "metadata": {},
   "outputs": [],
   "source": [
    "colors = np.array([[25, 24, 23],\n",
    "                  [120, 90, 70],\n",
    "                  [130, 24, 23],\n",
    "                  [250, 179, 100],\n",
    "                  [43, 65, 98],\n",
    "                  [11, 110, 79],\n",
    "                  [150, 110, 79],\n",
    "                  [255, 255, 255]])/255"
   ]
  },
  {
   "cell_type": "code",
   "execution_count": 391,
   "id": "7a2a7b97-2e2d-4b99-8a9b-4ac28bee4333",
   "metadata": {},
   "outputs": [],
   "source": [
    "# zn = zn-1^2 + C\n",
    "@jit(nopython=True)\n",
    "def compute_next(z, C):\n",
    "    zn = np.array([z[0]**2 - z[1]**2, 2.0*z[0]*z[1]])\n",
    "    return zn + C\n",
    "@jit(nopython=True)\n",
    "def compute_iterations(z0, C, max_iterations):\n",
    "    zn = z0\n",
    "    iterations = 0\n",
    "    while (zn.dot(zn) < 4.0) and (iterations < max_iterations):\n",
    "        zn = compute_next(zn, C)\n",
    "        iterations += 1\n",
    "    return iterations\n",
    "@jit(nopython=True)\n",
    "def render(render_shape, C, max_iterations):\n",
    "    \n",
    "    grid = np.zeros(render_shape)\n",
    "    \n",
    "    scale = 1/(render_shape[1]/2)\n",
    "    \n",
    "    samples = 16\n",
    "    \n",
    "    for x in range(render_shape[0]):\n",
    "        for y in range(render_shape[1]):\n",
    "            #tqdm(product(range(render_shape[0]),range(render_shape[1]))):\n",
    "\n",
    "            for j in range(samples):\n",
    "\n",
    "                px = scale*(np.random.randn() +  x - render_shape[0]/2)\n",
    "                py = scale*(np.random.randn() +  y - render_shape[1]/2)\n",
    "\n",
    "                z0 = np.array([px,py])\n",
    "                iterations = compute_iterations(z0, C, max_iterations)\n",
    "                grid[x,y] += iterations\n",
    "\n",
    "            grid[x,y] /= samples\n",
    "        \n",
    "    return grid"
   ]
  },
  {
   "cell_type": "code",
   "execution_count": 401,
   "id": "9b76593a-6a1b-4390-a19d-5f7d99d1c7cd",
   "metadata": {},
   "outputs": [],
   "source": [
    "idx = 2\n",
    "max_iter = 500\n",
    "C = np.array([-0.75454,-0.11301])\n",
    "\n",
    "im_shape = (10000,10000)"
   ]
  },
  {
   "cell_type": "code",
   "execution_count": null,
   "id": "053e862d-bdd7-4f29-8cbb-a02aeb467651",
   "metadata": {},
   "outputs": [],
   "source": [
    "counts_image = render(im_shape, C, max_iter)"
   ]
  },
  {
   "cell_type": "code",
   "execution_count": null,
   "id": "71121921-ddb8-46b5-b507-f2783e9db409",
   "metadata": {},
   "outputs": [],
   "source": [
    "custom_cmap = LinearSegmentedColormap.from_list('goop', colors, N=max_iter)\n",
    "\n",
    "fractal_image = custom_cmap(counts_image/counts_image.max())"
   ]
  },
  {
   "cell_type": "code",
   "execution_count": null,
   "id": "c836f9dc-aa8e-41c3-b646-3d5aa7c6d747",
   "metadata": {},
   "outputs": [],
   "source": [
    "fig, ax = plt.subplots(1, figsize=[12,12])\n",
    "\n",
    "ax.imshow(fractal_image)\n",
    "\n",
    "ax.set_xticks([])\n",
    "ax.set_yticks([])\n",
    "ax.set_xticklabels([])\n",
    "ax.set_yticklabels([])\n",
    "\n",
    "plt.savefig(f'fractal{idx}.png',dpi=300)\n",
    "\n",
    "plt.show()"
   ]
  },
  {
   "cell_type": "code",
   "execution_count": null,
   "id": "d5af684e-7f17-42bb-b00e-5edfc72a9e06",
   "metadata": {},
   "outputs": [],
   "source": [
    "imwrite(f'fractal_large_{idx}.png', fractal_image)"
   ]
  },
  {
   "cell_type": "code",
   "execution_count": null,
   "id": "af40a964-2e02-4a26-84da-4e2b418e3af6",
   "metadata": {},
   "outputs": [],
   "source": []
  }
 ],
 "metadata": {
  "kernelspec": {
   "display_name": "Python 3 (ipykernel)",
   "language": "python",
   "name": "python3"
  },
  "language_info": {
   "codemirror_mode": {
    "name": "ipython",
    "version": 3
   },
   "file_extension": ".py",
   "mimetype": "text/x-python",
   "name": "python",
   "nbconvert_exporter": "python",
   "pygments_lexer": "ipython3",
   "version": "3.10.9"
  }
 },
 "nbformat": 4,
 "nbformat_minor": 5
}
