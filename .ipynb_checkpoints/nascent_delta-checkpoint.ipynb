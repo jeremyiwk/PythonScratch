{
 "cells": [
  {
   "cell_type": "code",
   "execution_count": 24,
   "id": "57c8ca5c-d6b5-4bbf-905b-662c800d9a5c",
   "metadata": {},
   "outputs": [],
   "source": [
    "import numpy as np\n",
    "import matplotlib.pyplot as plt\n",
    "from scipy.stats import norm"
   ]
  },
  {
   "cell_type": "code",
   "execution_count": 25,
   "id": "04ec0593-f1d8-4800-8d00-08d298d52758",
   "metadata": {},
   "outputs": [],
   "source": [
    "gaussian = norm.pdf"
   ]
  },
  {
   "cell_type": "code",
   "execution_count": 18,
   "id": "b47708fe-e3d5-4d33-ae98-8bd7a802e51d",
   "metadata": {},
   "outputs": [],
   "source": [
    "xmin, xmax = -100, 100\n",
    "dx = 0.001\n",
    "x_array = np.arange(xmin, xmax, dx)"
   ]
  },
  {
   "cell_type": "code",
   "execution_count": 19,
   "id": "4f7d0cd2-2a8b-4fc6-9c5b-034dbcb205c3",
   "metadata": {},
   "outputs": [
    {
     "data": {
      "text/plain": [
       "(200000,)"
      ]
     },
     "execution_count": 19,
     "metadata": {},
     "output_type": "execute_result"
    }
   ],
   "source": [
    "x_array.shape"
   ]
  },
  {
   "cell_type": "code",
   "execution_count": 34,
   "id": "0a5c54b2-4de7-4f61-a32f-b6d5de49041a",
   "metadata": {},
   "outputs": [
    {
     "data": {
      "text/plain": [
       "0.9999799026995282"
      ]
     },
     "execution_count": 34,
     "metadata": {},
     "output_type": "execute_result"
    }
   ],
   "source": [
    "eps = 0.01\n",
    "(np.sinc(x_array/eps)*dx/eps).sum()"
   ]
  },
  {
   "cell_type": "code",
   "execution_count": 35,
   "id": "28a2ae4a-a002-4c57-a127-2a777d25f447",
   "metadata": {},
   "outputs": [
    {
     "data": {
      "text/plain": [
       "0.009999999999952254"
      ]
     },
     "execution_count": 35,
     "metadata": {},
     "output_type": "execute_result"
    }
   ],
   "source": [
    "(gaussian(x_array/eps)*dx).sum()"
   ]
  }
 ],
 "metadata": {
  "kernelspec": {
   "display_name": "Python 3 (ipykernel)",
   "language": "python",
   "name": "python3"
  },
  "language_info": {
   "codemirror_mode": {
    "name": "ipython",
    "version": 3
   },
   "file_extension": ".py",
   "mimetype": "text/x-python",
   "name": "python",
   "nbconvert_exporter": "python",
   "pygments_lexer": "ipython3",
   "version": "3.10.9"
  }
 },
 "nbformat": 4,
 "nbformat_minor": 5
}
