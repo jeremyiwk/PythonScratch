{
 "cells": [
  {
   "cell_type": "code",
   "execution_count": 1,
   "id": "15fedf8f-a514-4d3a-9274-7dea2b4f5aae",
   "metadata": {},
   "outputs": [],
   "source": [
    "import numpy as np\n",
    "import matplotlib.pyplot as plt"
   ]
  },
  {
   "cell_type": "code",
   "execution_count": 4,
   "id": "4375c872-9b67-484a-a372-590b8fc74a9b",
   "metadata": {},
   "outputs": [],
   "source": [
    "def pad_to_square(A):\n",
    "    M,N = A.shape\n",
    "    D = np.max(A.shape)\n",
    "    pad_A = np.zeros((D,D))\n",
    "    pad_A[0:M,0:N] = A\n",
    "    return pad_A"
   ]
  },
  {
   "cell_type": "code",
   "execution_count": 43,
   "id": "539dc8f5-53dd-4232-845e-2badf60a2467",
   "metadata": {},
   "outputs": [],
   "source": [
    "def pad_multiply(A,B):\n",
    "    \n",
    "    M,N = A.shape\n",
    "    K,L = B.shape\n",
    "    \n",
    "    # need (M,N) x (K,L) to cast\n",
    "    # take max(N,K)\n",
    "    \n",
    "    D = np.max([N,K])\n",
    "    \n",
    "    pad_A = np.zeros((M,D),dtype=A.dtype)\n",
    "    pad_B = np.zeros((D,L),dtype=B.dtype)\n",
    "    \n",
    "    pad_A[0:M,0:N] = A\n",
    "    pad_B[0:K,0:L] = B\n",
    "    #print(pad_A)\n",
    "    #print(pad_B)\n",
    "    return pad_A@pad_B"
   ]
  },
  {
   "cell_type": "code",
   "execution_count": 95,
   "id": "26549b91-2c0e-4fed-ada8-04d09872a669",
   "metadata": {},
   "outputs": [],
   "source": [
    "A = np.array([[2],\n",
    "              [3],\n",
    "              [5],\n",
    "              [1],\n",
    "              [8],\n",
    "              [8]])\n",
    "\n",
    "B = np.array([[2],\n",
    "              [3],\n",
    "              [5],\n",
    "              [1],\n",
    "              [1],\n",
    "              [1]])"
   ]
  },
  {
   "cell_type": "code",
   "execution_count": 96,
   "id": "81a4f8a3-11b0-4527-b551-abc400af3435",
   "metadata": {},
   "outputs": [
    {
     "data": {
      "text/plain": [
       "((6, 1), (6, 1))"
      ]
     },
     "execution_count": 96,
     "metadata": {},
     "output_type": "execute_result"
    }
   ],
   "source": [
    "A.shape, B.shape"
   ]
  },
  {
   "cell_type": "code",
   "execution_count": 97,
   "id": "14584904-61a5-4fb5-bb58-aa6b444b8a07",
   "metadata": {},
   "outputs": [
    {
     "data": {
      "text/plain": [
       "(6, 1)"
      ]
     },
     "execution_count": 97,
     "metadata": {},
     "output_type": "execute_result"
    }
   ],
   "source": [
    "pad_multiply(A,B).shape"
   ]
  },
  {
   "cell_type": "code",
   "execution_count": 98,
   "id": "48fd4f21-dd74-46ed-8714-3027361eb1cd",
   "metadata": {},
   "outputs": [
    {
     "data": {
      "text/plain": [
       "array([[ 4],\n",
       "       [ 6],\n",
       "       [10],\n",
       "       [ 2],\n",
       "       [16],\n",
       "       [16]])"
      ]
     },
     "execution_count": 98,
     "metadata": {},
     "output_type": "execute_result"
    }
   ],
   "source": [
    "pad_multiply(A,B)"
   ]
  },
  {
   "cell_type": "code",
   "execution_count": null,
   "id": "2a15d527-a5d0-477d-b9ff-c7d3fbb357b8",
   "metadata": {},
   "outputs": [],
   "source": []
  },
  {
   "cell_type": "code",
   "execution_count": null,
   "id": "f7b976fe-c7d3-4370-aef5-afb2d8537922",
   "metadata": {},
   "outputs": [],
   "source": []
  }
 ],
 "metadata": {
  "kernelspec": {
   "display_name": "Python 3 (ipykernel)",
   "language": "python",
   "name": "python3"
  },
  "language_info": {
   "codemirror_mode": {
    "name": "ipython",
    "version": 3
   },
   "file_extension": ".py",
   "mimetype": "text/x-python",
   "name": "python",
   "nbconvert_exporter": "python",
   "pygments_lexer": "ipython3",
   "version": "3.10.9"
  }
 },
 "nbformat": 4,
 "nbformat_minor": 5
}
