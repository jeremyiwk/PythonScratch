{
 "cells": [
  {
   "cell_type": "code",
   "execution_count": 1,
   "id": "e91cb97c-2370-40a5-8994-2e4df35ce87d",
   "metadata": {},
   "outputs": [],
   "source": [
    "import numpy as np\n",
    "import matplotlib.pyplot as plt"
   ]
  },
  {
   "cell_type": "code",
   "execution_count": 32,
   "id": "fa6af3a4-d430-4979-8f61-cc9ce8568cdc",
   "metadata": {},
   "outputs": [],
   "source": [
    "A = np.array([[1,2,3],\n",
    "              [2,4,5],\n",
    "              [3,5,3]])"
   ]
  },
  {
   "cell_type": "code",
   "execution_count": 33,
   "id": "cf454dbc-5361-4ce7-ab69-d3ad9b1fe5ff",
   "metadata": {},
   "outputs": [
    {
     "data": {
      "text/plain": [
       "-1.0000000000000004"
      ]
     },
     "execution_count": 33,
     "metadata": {},
     "output_type": "execute_result"
    }
   ],
   "source": [
    "np.linalg.det(A)"
   ]
  },
  {
   "cell_type": "code",
   "execution_count": 34,
   "id": "1ffe5c4f-70a0-4d6a-8e36-63a71ab44c4d",
   "metadata": {},
   "outputs": [],
   "source": [
    "eigvals, eigvecs = np.linalg.eig(A)"
   ]
  },
  {
   "cell_type": "code",
   "execution_count": 35,
   "id": "d71065b3-8495-47e1-87b7-f0155927fbb6",
   "metadata": {},
   "outputs": [],
   "source": [
    "D = np.real(np.diag(eigvals))\n",
    "U = np.real(eigvecs)"
   ]
  },
  {
   "cell_type": "code",
   "execution_count": 37,
   "id": "a2e2fc8a-d4af-4ddb-8183-fed25e8b5747",
   "metadata": {},
   "outputs": [
    {
     "data": {
      "text/plain": [
       "array([[1., 2., 3.],\n",
       "       [2., 4., 5.],\n",
       "       [3., 5., 3.]])"
      ]
     },
     "execution_count": 37,
     "metadata": {},
     "output_type": "execute_result"
    }
   ],
   "source": [
    "U@D@U.T"
   ]
  },
  {
   "cell_type": "code",
   "execution_count": null,
   "id": "09ac8e90-3288-4f93-949f-b658d764c083",
   "metadata": {},
   "outputs": [],
   "source": []
  },
  {
   "cell_type": "code",
   "execution_count": null,
   "id": "978a45a3-f965-4a52-8d2e-8cf74bbcce04",
   "metadata": {},
   "outputs": [],
   "source": []
  }
 ],
 "metadata": {
  "kernelspec": {
   "display_name": "Python 3 (ipykernel)",
   "language": "python",
   "name": "python3"
  },
  "language_info": {
   "codemirror_mode": {
    "name": "ipython",
    "version": 3
   },
   "file_extension": ".py",
   "mimetype": "text/x-python",
   "name": "python",
   "nbconvert_exporter": "python",
   "pygments_lexer": "ipython3",
   "version": "3.10.9"
  }
 },
 "nbformat": 4,
 "nbformat_minor": 5
}
