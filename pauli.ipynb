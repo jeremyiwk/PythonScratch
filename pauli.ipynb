{
 "cells": [
  {
   "cell_type": "code",
   "execution_count": 1,
   "id": "c2686aef-15ca-4559-97b7-18fe06131865",
   "metadata": {},
   "outputs": [],
   "source": [
    "import numpy as np"
   ]
  },
  {
   "cell_type": "code",
   "execution_count": 2,
   "id": "fb59f146-eebb-49e8-8740-27864f103926",
   "metadata": {},
   "outputs": [],
   "source": [
    "sigma_x = np.array([[ 0, 1 ],\n",
    "                    [ 1, 0 ]])\n",
    "\n",
    "sigma_y = np.array([[ 0 ,-1j],\n",
    "                    [ 1j, 0 ]])\n",
    "\n",
    "sigma_z = np.array([[ 1 , 0 ],\n",
    "                    [ 0 ,-1 ]])"
   ]
  },
  {
   "cell_type": "code",
   "execution_count": 4,
   "id": "12958ccd-9d5f-4cb2-a330-683781ce6351",
   "metadata": {},
   "outputs": [
    {
     "data": {
      "text/plain": [
       "array([[ True,  True],\n",
       "       [ True,  True]])"
      ]
     },
     "execution_count": 4,
     "metadata": {},
     "output_type": "execute_result"
    }
   ],
   "source": [
    "sigma_x@sigma_y == 1j*sigma_z"
   ]
  },
  {
   "cell_type": "code",
   "execution_count": 15,
   "id": "3bf6cf54-c431-42fe-bee8-03e4004d4ece",
   "metadata": {},
   "outputs": [
    {
     "data": {
      "text/plain": [
       "array([[ True,  True],\n",
       "       [ True,  True]])"
      ]
     },
     "execution_count": 15,
     "metadata": {},
     "output_type": "execute_result"
    }
   ],
   "source": [
    "sigma_z@sigma_x == 1j*sigma_y"
   ]
  },
  {
   "cell_type": "code",
   "execution_count": 14,
   "id": "db0911e6-75e0-48d5-9e2e-0102c762bfe6",
   "metadata": {},
   "outputs": [
    {
     "data": {
      "text/plain": [
       "array([[ True,  True],\n",
       "       [ True,  True]])"
      ]
     },
     "execution_count": 14,
     "metadata": {},
     "output_type": "execute_result"
    }
   ],
   "source": [
    "sigma_y@sigma_z == 1j*sigma_x"
   ]
  },
  {
   "cell_type": "code",
   "execution_count": null,
   "id": "60b1597e-d409-438a-9928-aee613299089",
   "metadata": {},
   "outputs": [],
   "source": []
  }
 ],
 "metadata": {
  "kernelspec": {
   "display_name": "Python 3 (ipykernel)",
   "language": "python",
   "name": "python3"
  },
  "language_info": {
   "codemirror_mode": {
    "name": "ipython",
    "version": 3
   },
   "file_extension": ".py",
   "mimetype": "text/x-python",
   "name": "python",
   "nbconvert_exporter": "python",
   "pygments_lexer": "ipython3",
   "version": "3.10.9"
  }
 },
 "nbformat": 4,
 "nbformat_minor": 5
}
