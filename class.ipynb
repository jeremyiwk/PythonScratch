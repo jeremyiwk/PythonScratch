{
 "cells": [
  {
   "cell_type": "code",
   "execution_count": 27,
   "id": "6c977479-4e36-4232-8fde-b7b08618a855",
   "metadata": {},
   "outputs": [],
   "source": [
    "import numpy as np\n",
    "import matplotlib.pyplot as plt\n",
    "\n",
    "#\n",
    "# https://mathspp.com/blog/pydonts/dunder-methods#:~:text=In%20Python%2C%20dunder%20methods%20are,__%20or%20__add__%20.\n",
    "#"
   ]
  },
  {
   "cell_type": "code",
   "execution_count": 42,
   "id": "51e3d530-f7e8-4252-b773-18f99c639e3d",
   "metadata": {},
   "outputs": [],
   "source": [
    "class multi_dict(dict):\n",
    "    def __init__(self, obj):\n",
    "        self.dict = dict(obj)\n",
    "    def __getitem__(self, key):\n",
    "        return self.dict[key]\n",
    "    def __setitem__(self, key, value):\n",
    "        self.dict[key] = value\n",
    "    def __call__(self):\n",
    "        print(self.dict)\n",
    "    def __add__(self, obj):\n",
    "        assert(type(obj)==multi_dict)\n",
    "        return 1\n",
    "    "
   ]
  },
  {
   "cell_type": "code",
   "execution_count": 43,
   "id": "cba35603-02db-428e-a918-c8290db79e4c",
   "metadata": {},
   "outputs": [],
   "source": [
    "a = {\"a\":1, \"b\":2}\n",
    "\n",
    "x = multi_dict(a)"
   ]
  },
  {
   "cell_type": "code",
   "execution_count": 44,
   "id": "4fb700d1-1aee-408f-8999-77032b261a88",
   "metadata": {},
   "outputs": [],
   "source": [
    "x[\"a\"] = 2"
   ]
  },
  {
   "cell_type": "code",
   "execution_count": 49,
   "id": "c29defe9-681b-4096-b680-f9d0d9feda2c",
   "metadata": {},
   "outputs": [
    {
     "data": {
      "text/plain": [
       "1"
      ]
     },
     "execution_count": 49,
     "metadata": {},
     "output_type": "execute_result"
    }
   ],
   "source": []
  },
  {
   "cell_type": "code",
   "execution_count": null,
   "id": "736cc29a-cd86-4cb0-87e2-3c4637d63391",
   "metadata": {},
   "outputs": [],
   "source": []
  }
 ],
 "metadata": {
  "kernelspec": {
   "display_name": "Python 3 (ipykernel)",
   "language": "python",
   "name": "python3"
  },
  "language_info": {
   "codemirror_mode": {
    "name": "ipython",
    "version": 3
   },
   "file_extension": ".py",
   "mimetype": "text/x-python",
   "name": "python",
   "nbconvert_exporter": "python",
   "pygments_lexer": "ipython3",
   "version": "3.10.9"
  }
 },
 "nbformat": 4,
 "nbformat_minor": 5
}
